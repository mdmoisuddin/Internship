{
 "cells": [
  {
   "cell_type": "code",
   "execution_count": 1,
   "id": "d6116547",
   "metadata": {},
   "outputs": [],
   "source": [
    "from urllib.request import urlopen\n",
    "from bs4 import BeautifulSoup as Soup\n",
    "import requests as rs"
   ]
  },
  {
   "cell_type": "code",
   "execution_count": 2,
   "id": "eebce1d1",
   "metadata": {},
   "outputs": [
    {
     "data": {
      "text/plain": [
       "<Response [200]>"
      ]
     },
     "execution_count": 2,
     "metadata": {},
     "output_type": "execute_result"
    }
   ],
   "source": [
    "page_ODI_Bow = rs.get(\"https://www.icc-cricket.com/rankings/mens/player-rankings/odi/bowling\")\n",
    "page_ODI_Bow"
   ]
  },
  {
   "cell_type": "code",
   "execution_count": 3,
   "id": "c8c6da08",
   "metadata": {},
   "outputs": [],
   "source": [
    "ODI_soup_Bow = Soup(page_ODI_Bow.content , \"html.parser\")"
   ]
  },
  {
   "cell_type": "code",
   "execution_count": 4,
   "id": "8c4e5a57",
   "metadata": {},
   "outputs": [],
   "source": [
    "Bowler_Name = []\n",
    "Teams = []\n",
    "Ratings =  []"
   ]
  },
  {
   "cell_type": "code",
   "execution_count": 5,
   "id": "fe2b17f6",
   "metadata": {},
   "outputs": [
    {
     "data": {
      "text/plain": [
       "[' Jasprit Bumrah ', ' Shaheen Afridi ', ' Josh Hazlewood ']"
      ]
     },
     "execution_count": 5,
     "metadata": {},
     "output_type": "execute_result"
    }
   ],
   "source": [
    "Bowler = ODI_soup_Bow.find_all(\"td\", class_ =\"table-body__cell rankings-table__name name\")\n",
    "Bowler[0:4]\n",
    "for i in Bowler:\n",
    "    Bowler_Name.append(i.get_text().replace(\"\\n\",\" \"))\n",
    "    \n",
    "Bowler_Name[0:3]"
   ]
  },
  {
   "cell_type": "code",
   "execution_count": 7,
   "id": "f273d865",
   "metadata": {},
   "outputs": [
    {
     "data": {
      "text/plain": [
       "['IND', 'PAK', 'AUS', 'AFG']"
      ]
     },
     "execution_count": 7,
     "metadata": {},
     "output_type": "execute_result"
    }
   ],
   "source": [
    "Team_Name_B = ODI_soup_Bow.find_all(\"span\", class_=\"table-body__logo-text\")\n",
    "Team_Name_B[0:4]\n",
    "for i in Team_Name_B:\n",
    "    Teams.append(i.get_text().replace(\"\\n\",\" \"))\n",
    "\n",
    "Teams[0:4]\n"
   ]
  },
  {
   "cell_type": "code",
   "execution_count": 8,
   "id": "2fdf4cb3",
   "metadata": {},
   "outputs": [
    {
     "data": {
      "text/plain": [
       "['682', '681', '679', '676']"
      ]
     },
     "execution_count": 8,
     "metadata": {},
     "output_type": "execute_result"
    }
   ],
   "source": [
    "Rating_Bows = ODI_soup_Bow.find_all(\"td\", class_=\"table-body__cell rating\")\n",
    "Rating_Bows[0:4]\n",
    "for i in Rating_Bows:\n",
    "    Ratings.append(i.get_text().replace(\"\\n\",\" \"))\n",
    "\n",
    "Ratings[0:4]"
   ]
  },
  {
   "cell_type": "code",
   "execution_count": 9,
   "id": "a1e6f44b",
   "metadata": {},
   "outputs": [
    {
     "name": "stdout",
     "output_type": "stream",
     "text": [
      "99 99 99\n"
     ]
    }
   ],
   "source": [
    "print(len(Teams), len(Bowler_Name),len(Ratings))"
   ]
  },
  {
   "cell_type": "code",
   "execution_count": 10,
   "id": "08437e5b",
   "metadata": {},
   "outputs": [],
   "source": [
    "Bowler_Name.insert(0 , 'Trent Boult')\n",
    "Teams.insert(0 ,'NZ')\n",
    "Ratings.insert(0,'697')"
   ]
  },
  {
   "cell_type": "code",
   "execution_count": 11,
   "id": "583ef7c8",
   "metadata": {},
   "outputs": [
    {
     "name": "stdout",
     "output_type": "stream",
     "text": [
      "100 100 100\n"
     ]
    }
   ],
   "source": [
    "print(len(Teams), len(Bowler_Name),len(Ratings))"
   ]
  },
  {
   "cell_type": "code",
   "execution_count": 12,
   "id": "54be95ec",
   "metadata": {},
   "outputs": [
    {
     "data": {
      "text/html": [
       "<div>\n",
       "<style scoped>\n",
       "    .dataframe tbody tr th:only-of-type {\n",
       "        vertical-align: middle;\n",
       "    }\n",
       "\n",
       "    .dataframe tbody tr th {\n",
       "        vertical-align: top;\n",
       "    }\n",
       "\n",
       "    .dataframe thead th {\n",
       "        text-align: right;\n",
       "    }\n",
       "</style>\n",
       "<table border=\"1\" class=\"dataframe\">\n",
       "  <thead>\n",
       "    <tr style=\"text-align: right;\">\n",
       "      <th></th>\n",
       "      <th>Batsmen_Names</th>\n",
       "      <th>Team_Names</th>\n",
       "      <th>Rating</th>\n",
       "    </tr>\n",
       "  </thead>\n",
       "  <tbody>\n",
       "    <tr>\n",
       "      <th>0</th>\n",
       "      <td>Trent Boult</td>\n",
       "      <td>NZ</td>\n",
       "      <td>697</td>\n",
       "    </tr>\n",
       "    <tr>\n",
       "      <th>1</th>\n",
       "      <td>Jasprit Bumrah</td>\n",
       "      <td>IND</td>\n",
       "      <td>682</td>\n",
       "    </tr>\n",
       "    <tr>\n",
       "      <th>2</th>\n",
       "      <td>Shaheen Afridi</td>\n",
       "      <td>PAK</td>\n",
       "      <td>681</td>\n",
       "    </tr>\n",
       "    <tr>\n",
       "      <th>3</th>\n",
       "      <td>Josh Hazlewood</td>\n",
       "      <td>AUS</td>\n",
       "      <td>679</td>\n",
       "    </tr>\n",
       "    <tr>\n",
       "      <th>4</th>\n",
       "      <td>Mujeeb Ur Rahman</td>\n",
       "      <td>AFG</td>\n",
       "      <td>676</td>\n",
       "    </tr>\n",
       "  </tbody>\n",
       "</table>\n",
       "</div>"
      ],
      "text/plain": [
       "        Batsmen_Names Team_Names Rating\n",
       "0         Trent Boult         NZ    697\n",
       "1     Jasprit Bumrah         IND    682\n",
       "2     Shaheen Afridi         PAK    681\n",
       "3     Josh Hazlewood         AUS    679\n",
       "4   Mujeeb Ur Rahman         AFG    676"
      ]
     },
     "execution_count": 12,
     "metadata": {},
     "output_type": "execute_result"
    }
   ],
   "source": [
    "import pandas as pd\n",
    "\n",
    "Top_Bowler_ODI = pd.DataFrame({})\n",
    "Top_Bowler_ODI[\"Batsmen_Names\"]=Bowler_Name\n",
    "Top_Bowler_ODI[\"Team_Names\"]=Teams\n",
    "Top_Bowler_ODI[\"Rating\"]=Ratings\n",
    "\n",
    "Top_Bowler_ODI.head()"
   ]
  },
  {
   "cell_type": "code",
   "execution_count": 13,
   "id": "14ee6677",
   "metadata": {},
   "outputs": [
    {
     "data": {
      "text/html": [
       "<div>\n",
       "<style scoped>\n",
       "    .dataframe tbody tr th:only-of-type {\n",
       "        vertical-align: middle;\n",
       "    }\n",
       "\n",
       "    .dataframe tbody tr th {\n",
       "        vertical-align: top;\n",
       "    }\n",
       "\n",
       "    .dataframe thead th {\n",
       "        text-align: right;\n",
       "    }\n",
       "</style>\n",
       "<table border=\"1\" class=\"dataframe\">\n",
       "  <thead>\n",
       "    <tr style=\"text-align: right;\">\n",
       "      <th></th>\n",
       "      <th>Batsmen_Names</th>\n",
       "      <th>Team_Names</th>\n",
       "      <th>Rating</th>\n",
       "    </tr>\n",
       "  </thead>\n",
       "  <tbody>\n",
       "    <tr>\n",
       "      <th>0</th>\n",
       "      <td>Trent Boult</td>\n",
       "      <td>NZ</td>\n",
       "      <td>697</td>\n",
       "    </tr>\n",
       "    <tr>\n",
       "      <th>1</th>\n",
       "      <td>Jasprit Bumrah</td>\n",
       "      <td>IND</td>\n",
       "      <td>682</td>\n",
       "    </tr>\n",
       "    <tr>\n",
       "      <th>2</th>\n",
       "      <td>Shaheen Afridi</td>\n",
       "      <td>PAK</td>\n",
       "      <td>681</td>\n",
       "    </tr>\n",
       "    <tr>\n",
       "      <th>3</th>\n",
       "      <td>Josh Hazlewood</td>\n",
       "      <td>AUS</td>\n",
       "      <td>679</td>\n",
       "    </tr>\n",
       "    <tr>\n",
       "      <th>4</th>\n",
       "      <td>Mujeeb Ur Rahman</td>\n",
       "      <td>AFG</td>\n",
       "      <td>676</td>\n",
       "    </tr>\n",
       "    <tr>\n",
       "      <th>5</th>\n",
       "      <td>Mehedi Hasan</td>\n",
       "      <td>BAN</td>\n",
       "      <td>672</td>\n",
       "    </tr>\n",
       "    <tr>\n",
       "      <th>6</th>\n",
       "      <td>Matt Henry</td>\n",
       "      <td>NZ</td>\n",
       "      <td>663</td>\n",
       "    </tr>\n",
       "    <tr>\n",
       "      <th>7</th>\n",
       "      <td>Mohammad Nabi</td>\n",
       "      <td>AFG</td>\n",
       "      <td>657</td>\n",
       "    </tr>\n",
       "    <tr>\n",
       "      <th>8</th>\n",
       "      <td>Rashid Khan</td>\n",
       "      <td>AFG</td>\n",
       "      <td>651</td>\n",
       "    </tr>\n",
       "    <tr>\n",
       "      <th>9</th>\n",
       "      <td>Chris Woakes</td>\n",
       "      <td>ENG</td>\n",
       "      <td>640</td>\n",
       "    </tr>\n",
       "  </tbody>\n",
       "</table>\n",
       "</div>"
      ],
      "text/plain": [
       "        Batsmen_Names Team_Names Rating\n",
       "0         Trent Boult         NZ    697\n",
       "1     Jasprit Bumrah         IND    682\n",
       "2     Shaheen Afridi         PAK    681\n",
       "3     Josh Hazlewood         AUS    679\n",
       "4   Mujeeb Ur Rahman         AFG    676\n",
       "5       Mehedi Hasan         BAN    672\n",
       "6         Matt Henry          NZ    663\n",
       "7      Mohammad Nabi         AFG    657\n",
       "8        Rashid Khan         AFG    651\n",
       "9       Chris Woakes         ENG    640"
      ]
     },
     "execution_count": 13,
     "metadata": {},
     "output_type": "execute_result"
    }
   ],
   "source": [
    "Top_Bowler_ODI.head(10)"
   ]
  },
  {
   "cell_type": "code",
   "execution_count": null,
   "id": "1c6b5c4f",
   "metadata": {},
   "outputs": [],
   "source": []
  }
 ],
 "metadata": {
  "kernelspec": {
   "display_name": "Python 3 (ipykernel)",
   "language": "python",
   "name": "python3"
  },
  "language_info": {
   "codemirror_mode": {
    "name": "ipython",
    "version": 3
   },
   "file_extension": ".py",
   "mimetype": "text/x-python",
   "name": "python",
   "nbconvert_exporter": "python",
   "pygments_lexer": "ipython3",
   "version": "3.9.12"
  }
 },
 "nbformat": 4,
 "nbformat_minor": 5
}
