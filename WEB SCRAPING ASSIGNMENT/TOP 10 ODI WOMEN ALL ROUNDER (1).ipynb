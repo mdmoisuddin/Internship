{
 "cells": [
  {
   "cell_type": "code",
   "execution_count": 1,
   "id": "15bc8a63",
   "metadata": {},
   "outputs": [],
   "source": [
    "from urllib.request import urlopen\n",
    "from bs4 import BeautifulSoup as Soup\n",
    "import requests as rs"
   ]
  },
  {
   "cell_type": "code",
   "execution_count": 2,
   "id": "c42135ed",
   "metadata": {},
   "outputs": [
    {
     "data": {
      "text/plain": [
       "<Response [200]>"
      ]
     },
     "execution_count": 2,
     "metadata": {},
     "output_type": "execute_result"
    }
   ],
   "source": [
    "page_ODI_ALL = rs.get(\"https://www.icc-cricket.com/rankings/womens/player-rankings/odi/all-rounder\")\n",
    "page_ODI_ALL"
   ]
  },
  {
   "cell_type": "code",
   "execution_count": 3,
   "id": "d99838d3",
   "metadata": {},
   "outputs": [],
   "source": [
    "ODI_soup_ALL = Soup(page_ODI_ALL.content , \"html.parser\")"
   ]
  },
  {
   "cell_type": "code",
   "execution_count": 4,
   "id": "46e61745",
   "metadata": {},
   "outputs": [],
   "source": [
    "All_Rounder_Name = []\n",
    "Team_All = []\n",
    "Rating_All =  []"
   ]
  },
  {
   "cell_type": "code",
   "execution_count": 5,
   "id": "50ee9257",
   "metadata": {},
   "outputs": [
    {
     "data": {
      "text/plain": [
       "[' Ellyse Perry ', ' Marizanne Kapp ', ' Hayley Matthews ']"
      ]
     },
     "execution_count": 5,
     "metadata": {},
     "output_type": "execute_result"
    }
   ],
   "source": [
    "All_Rounder = ODI_soup_ALL.find_all(\"td\", class_ =\"table-body__cell rankings-table__name name\")\n",
    "All_Rounder[0:4]\n",
    "\n",
    "for i in All_Rounder:\n",
    "    All_Rounder_Name.append(i.get_text().replace(\"\\n\",\" \"))\n",
    "    \n",
    "All_Rounder_Name[0:3]"
   ]
  },
  {
   "cell_type": "code",
   "execution_count": 6,
   "id": "3b2fff72",
   "metadata": {},
   "outputs": [
    {
     "data": {
      "text/plain": [
       "['AUS', 'SA', 'WI', 'NZ']"
      ]
     },
     "execution_count": 6,
     "metadata": {},
     "output_type": "execute_result"
    }
   ],
   "source": [
    "Team_Name_All = ODI_soup_ALL.find_all(\"span\", class_=\"table-body__logo-text\")\n",
    "Team_Name_All[0:4]\n",
    " \n",
    "for i in Team_Name_All:\n",
    "    Team_All.append(i.get_text().replace(\"\\n\",\" \"))\n",
    "\n",
    "Team_All[0:4]"
   ]
  },
  {
   "cell_type": "code",
   "execution_count": 7,
   "id": "403fee11",
   "metadata": {},
   "outputs": [
    {
     "data": {
      "text/plain": [
       "['AUS', 'SA', 'WI', 'NZ']"
      ]
     },
     "execution_count": 7,
     "metadata": {},
     "output_type": "execute_result"
    }
   ],
   "source": [
    "Team_Name_All = ODI_soup_ALL.find_all(\"span\", class_=\"table-body__logo-text\")\n",
    "Team_Name_All[0:4]\n",
    " \n",
    "for i in Team_Name_All:\n",
    "    Team_All.append(i.get_text().replace(\"\\n\",\" \"))\n",
    "\n",
    "Team_All[0:4]"
   ]
  },
  {
   "cell_type": "code",
   "execution_count": 8,
   "id": "633cc360",
   "metadata": {},
   "outputs": [
    {
     "data": {
      "text/plain": [
       "['374', '349', '339', '336']"
      ]
     },
     "execution_count": 8,
     "metadata": {},
     "output_type": "execute_result"
    }
   ],
   "source": [
    "Rating_All_W = ODI_soup_ALL.find_all(\"td\", class_=\"table-body__cell rating\")\n",
    "Rating_All_W[0:4]\n",
    " \n",
    "for i in Rating_All_W:\n",
    "    Rating_All.append(i.get_text().replace(\"\\n\",\" \"))\n",
    "\n",
    "Rating_All[0:4]"
   ]
  },
  {
   "cell_type": "code",
   "execution_count": 9,
   "id": "5f24c50f",
   "metadata": {},
   "outputs": [
    {
     "name": "stdout",
     "output_type": "stream",
     "text": [
      "38 19 19\n"
     ]
    }
   ],
   "source": [
    "print(len(Team_All), len(All_Rounder_Name),len(Rating_All))"
   ]
  },
  {
   "cell_type": "code",
   "execution_count": 10,
   "id": "990b04aa",
   "metadata": {},
   "outputs": [],
   "source": [
    "All_Rounder_Name.insert(0 , 'Natalie Sciver')\n",
    "Team_All.insert(0 ,'ENG')\n",
    "Rating_All.insert(0,'379')"
   ]
  },
  {
   "cell_type": "code",
   "execution_count": 11,
   "id": "c05dc82d",
   "metadata": {},
   "outputs": [
    {
     "name": "stdout",
     "output_type": "stream",
     "text": [
      "39 20 20\n"
     ]
    }
   ],
   "source": [
    "print(len(Team_All), len(All_Rounder_Name),len(Rating_All))"
   ]
  },
  {
   "cell_type": "code",
   "execution_count": 12,
   "id": "5c953b54",
   "metadata": {},
   "outputs": [
    {
     "data": {
      "text/html": [
       "<div>\n",
       "<style scoped>\n",
       "    .dataframe tbody tr th:only-of-type {\n",
       "        vertical-align: middle;\n",
       "    }\n",
       "\n",
       "    .dataframe tbody tr th {\n",
       "        vertical-align: top;\n",
       "    }\n",
       "\n",
       "    .dataframe thead th {\n",
       "        text-align: right;\n",
       "    }\n",
       "</style>\n",
       "<table border=\"1\" class=\"dataframe\">\n",
       "  <thead>\n",
       "    <tr style=\"text-align: right;\">\n",
       "      <th></th>\n",
       "      <th>All_Rounder_Name</th>\n",
       "      <th>Team_Names</th>\n",
       "      <th>Rating</th>\n",
       "    </tr>\n",
       "  </thead>\n",
       "  <tbody>\n",
       "    <tr>\n",
       "      <th>0</th>\n",
       "      <td>Natalie Sciver</td>\n",
       "      <td>ENG</td>\n",
       "      <td>379</td>\n",
       "    </tr>\n",
       "    <tr>\n",
       "      <th>1</th>\n",
       "      <td>Ellyse Perry</td>\n",
       "      <td>AUS</td>\n",
       "      <td>374</td>\n",
       "    </tr>\n",
       "    <tr>\n",
       "      <th>2</th>\n",
       "      <td>Marizanne Kapp</td>\n",
       "      <td>SA</td>\n",
       "      <td>349</td>\n",
       "    </tr>\n",
       "    <tr>\n",
       "      <th>3</th>\n",
       "      <td>Hayley Matthews</td>\n",
       "      <td>WI</td>\n",
       "      <td>339</td>\n",
       "    </tr>\n",
       "    <tr>\n",
       "      <th>4</th>\n",
       "      <td>Amelia Kerr</td>\n",
       "      <td>NZ</td>\n",
       "      <td>336</td>\n",
       "    </tr>\n",
       "    <tr>\n",
       "      <th>5</th>\n",
       "      <td>Ashleigh Gardner</td>\n",
       "      <td>AUS</td>\n",
       "      <td>270</td>\n",
       "    </tr>\n",
       "    <tr>\n",
       "      <th>6</th>\n",
       "      <td>Deepti Sharma</td>\n",
       "      <td>IND</td>\n",
       "      <td>252</td>\n",
       "    </tr>\n",
       "    <tr>\n",
       "      <th>7</th>\n",
       "      <td>Jess Jonassen</td>\n",
       "      <td>AUS</td>\n",
       "      <td>246</td>\n",
       "    </tr>\n",
       "    <tr>\n",
       "      <th>8</th>\n",
       "      <td>Katherine Brunt</td>\n",
       "      <td>ENG</td>\n",
       "      <td>220</td>\n",
       "    </tr>\n",
       "    <tr>\n",
       "      <th>9</th>\n",
       "      <td>Stafanie Taylor</td>\n",
       "      <td>WI</td>\n",
       "      <td>207</td>\n",
       "    </tr>\n",
       "  </tbody>\n",
       "</table>\n",
       "</div>"
      ],
      "text/plain": [
       "     All_Rounder_Name Team_Names Rating\n",
       "0      Natalie Sciver        ENG    379\n",
       "1       Ellyse Perry         AUS    374\n",
       "2     Marizanne Kapp          SA    349\n",
       "3    Hayley Matthews          WI    339\n",
       "4        Amelia Kerr          NZ    336\n",
       "5   Ashleigh Gardner         AUS    270\n",
       "6      Deepti Sharma         IND    252\n",
       "7      Jess Jonassen         AUS    246\n",
       "8    Katherine Brunt         ENG    220\n",
       "9    Stafanie Taylor          WI    207"
      ]
     },
     "execution_count": 12,
     "metadata": {},
     "output_type": "execute_result"
    }
   ],
   "source": [
    "import pandas as pd\n",
    "\n",
    "All_ODI_W = pd.DataFrame({})\n",
    "All_ODI_W[\"All_Rounder_Name\"]=All_Rounder_Name\n",
    "All_ODI_W[\"Team_Names\"]=Team_All[0:20]\n",
    "All_ODI_W[\"Rating\"]=Rating_All\n",
    "\n",
    "All_ODI_W.head(10)"
   ]
  },
  {
   "cell_type": "code",
   "execution_count": null,
   "id": "c7d1a3cd",
   "metadata": {},
   "outputs": [],
   "source": []
  }
 ],
 "metadata": {
  "kernelspec": {
   "display_name": "Python 3 (ipykernel)",
   "language": "python",
   "name": "python3"
  },
  "language_info": {
   "codemirror_mode": {
    "name": "ipython",
    "version": 3
   },
   "file_extension": ".py",
   "mimetype": "text/x-python",
   "name": "python",
   "nbconvert_exporter": "python",
   "pygments_lexer": "ipython3",
   "version": "3.9.12"
  }
 },
 "nbformat": 4,
 "nbformat_minor": 5
}
