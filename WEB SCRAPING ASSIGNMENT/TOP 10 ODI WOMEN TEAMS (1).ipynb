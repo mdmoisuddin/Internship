{
 "cells": [
  {
   "cell_type": "code",
   "execution_count": 1,
   "id": "1f3fcf8e",
   "metadata": {},
   "outputs": [],
   "source": [
    "from urllib.request import urlopen\n",
    "from bs4 import BeautifulSoup as Soup\n",
    "import requests as rs\n"
   ]
  },
  {
   "cell_type": "code",
   "execution_count": 2,
   "id": "1f35a0d2",
   "metadata": {},
   "outputs": [],
   "source": [
    "page_ODI_W = rs.get(\"https://www.icc-cricket.com/rankings/womens/team-rankings/odi\")\n"
   ]
  },
  {
   "cell_type": "code",
   "execution_count": 3,
   "id": "50b0017a",
   "metadata": {},
   "outputs": [],
   "source": [
    "ODI_soup_W = Soup(page_ODI_W.content , \"html.parser\")"
   ]
  },
  {
   "cell_type": "code",
   "execution_count": 4,
   "id": "d523335f",
   "metadata": {},
   "outputs": [],
   "source": [
    "Team = []\n",
    "Match = []\n",
    "Points = []\n",
    "Rating =  []"
   ]
  },
  {
   "cell_type": "code",
   "execution_count": 5,
   "id": "2e92338a",
   "metadata": {},
   "outputs": [],
   "source": [
    "W_Team = ODI_soup_W.find_all(\"span\", class_=\"u-hide-phablet\")\n",
    "W_Team[0:4]\n",
    "for i in W_Team:\n",
    "    Team.append(i.get_text().replace(\"\\n\",\" \"))"
   ]
  },
  {
   "cell_type": "code",
   "execution_count": 6,
   "id": "1b6f7454",
   "metadata": {},
   "outputs": [
    {
     "data": {
      "text/plain": [
       "['Australia',\n",
       " 'England',\n",
       " 'South Africa',\n",
       " 'India',\n",
       " 'New Zealand',\n",
       " 'West Indies',\n",
       " 'Bangladesh',\n",
       " 'Pakistan',\n",
       " 'Sri Lanka',\n",
       " 'Ireland']"
      ]
     },
     "execution_count": 6,
     "metadata": {},
     "output_type": "execute_result"
    }
   ],
   "source": [
    "Team=Team[0:10]\n",
    "Team[0:11]"
   ]
  },
  {
   "cell_type": "code",
   "execution_count": 7,
   "id": "105ecb80",
   "metadata": {},
   "outputs": [
    {
     "data": {
      "text/plain": [
       "['33', '4,046', '35', '4,157']"
      ]
     },
     "execution_count": 7,
     "metadata": {},
     "output_type": "execute_result"
    }
   ],
   "source": [
    "ODI_Match_W = ODI_soup_W.find_all(\"td\", class_=\"table-body__cell u-center-text\")\n",
    "ODI_Match_W[0:4]\n",
    "for i in ODI_Match_W:\n",
    "    Match.append(i.get_text().replace(\"\\n\",\" \"))\n",
    "\n",
    "Match[0:4]"
   ]
  },
  {
   "cell_type": "code",
   "execution_count": 8,
   "id": "078ea1c1",
   "metadata": {},
   "outputs": [
    {
     "name": "stdout",
     "output_type": "stream",
     "text": [
      "['33', '35', '32', '31', '30', '12', '30', '11', '8', '8']\n"
     ]
    }
   ],
   "source": [
    "Total_Match=[]\n",
    "i=0\n",
    "while i < len(Match):\n",
    "    Total_Match.append(Match[i])\n",
    "    i += 2\n",
    "        \n",
    "print(Total_Match)"
   ]
  },
  {
   "cell_type": "code",
   "execution_count": 9,
   "id": "1a5544fb",
   "metadata": {},
   "outputs": [
    {
     "name": "stdout",
     "output_type": "stream",
     "text": [
      "['4,046', '4,157', '3,219', '3,019', '2,768', '930', '1,962', '495', '351', '0']\n"
     ]
    }
   ],
   "source": [
    "Points=[]\n",
    "i=1\n",
    "while i < len(Match):\n",
    "    Points.append(Match[i])\n",
    "    i += 2\n",
    "        \n",
    "print(Points) "
   ]
  },
  {
   "cell_type": "code",
   "execution_count": 10,
   "id": "ae923d7c",
   "metadata": {},
   "outputs": [
    {
     "data": {
      "text/plain": [
       "['123', '119', '101', '97']"
      ]
     },
     "execution_count": 10,
     "metadata": {},
     "output_type": "execute_result"
    }
   ],
   "source": [
    "ODI_Rating_W = ODI_soup_W.find_all(\"td\", class_=\"table-body__cell u-text-right rating\")\n",
    "ODI_Rating_W[0:4]\n",
    "for i in ODI_Rating_W:\n",
    "    Rating.append(i.get_text().replace(\"\\n\",\" \"))\n",
    "\n",
    "Rating[0:4] "
   ]
  },
  {
   "cell_type": "code",
   "execution_count": 11,
   "id": "cd4bf9aa",
   "metadata": {},
   "outputs": [
    {
     "name": "stdout",
     "output_type": "stream",
     "text": [
      "10 10 10 10\n"
     ]
    }
   ],
   "source": [
    "print(len(Team), len(Total_Match),len(Points),len(Rating))"
   ]
  },
  {
   "cell_type": "code",
   "execution_count": 12,
   "id": "faacc701",
   "metadata": {},
   "outputs": [],
   "source": [
    "import pandas as pd\n",
    "\n",
    "Top_10_Woman = pd.DataFrame({})\n",
    "Top_10_Woman[\"Team_name\"] = Team\n",
    "Top_10_Woman[\"Total_Match\"] = Total_Match\n",
    "Top_10_Woman[\"Points\"] = Points\n",
    "Top_10_Woman[\"Rating\"] = Rating"
   ]
  },
  {
   "cell_type": "code",
   "execution_count": 13,
   "id": "9ab27ba3",
   "metadata": {},
   "outputs": [
    {
     "data": {
      "text/html": [
       "<div>\n",
       "<style scoped>\n",
       "    .dataframe tbody tr th:only-of-type {\n",
       "        vertical-align: middle;\n",
       "    }\n",
       "\n",
       "    .dataframe tbody tr th {\n",
       "        vertical-align: top;\n",
       "    }\n",
       "\n",
       "    .dataframe thead th {\n",
       "        text-align: right;\n",
       "    }\n",
       "</style>\n",
       "<table border=\"1\" class=\"dataframe\">\n",
       "  <thead>\n",
       "    <tr style=\"text-align: right;\">\n",
       "      <th></th>\n",
       "      <th>Team_name</th>\n",
       "      <th>Total_Match</th>\n",
       "      <th>Points</th>\n",
       "      <th>Rating</th>\n",
       "    </tr>\n",
       "  </thead>\n",
       "  <tbody>\n",
       "    <tr>\n",
       "      <th>0</th>\n",
       "      <td>Australia</td>\n",
       "      <td>33</td>\n",
       "      <td>4,046</td>\n",
       "      <td>123</td>\n",
       "    </tr>\n",
       "    <tr>\n",
       "      <th>1</th>\n",
       "      <td>England</td>\n",
       "      <td>35</td>\n",
       "      <td>4,157</td>\n",
       "      <td>119</td>\n",
       "    </tr>\n",
       "    <tr>\n",
       "      <th>2</th>\n",
       "      <td>South Africa</td>\n",
       "      <td>32</td>\n",
       "      <td>3,219</td>\n",
       "      <td>101</td>\n",
       "    </tr>\n",
       "    <tr>\n",
       "      <th>3</th>\n",
       "      <td>India</td>\n",
       "      <td>31</td>\n",
       "      <td>3,019</td>\n",
       "      <td>97</td>\n",
       "    </tr>\n",
       "    <tr>\n",
       "      <th>4</th>\n",
       "      <td>New Zealand</td>\n",
       "      <td>30</td>\n",
       "      <td>2,768</td>\n",
       "      <td>92</td>\n",
       "    </tr>\n",
       "    <tr>\n",
       "      <th>5</th>\n",
       "      <td>West Indies</td>\n",
       "      <td>12</td>\n",
       "      <td>930</td>\n",
       "      <td>78</td>\n",
       "    </tr>\n",
       "    <tr>\n",
       "      <th>6</th>\n",
       "      <td>Bangladesh</td>\n",
       "      <td>30</td>\n",
       "      <td>1,962</td>\n",
       "      <td>65</td>\n",
       "    </tr>\n",
       "    <tr>\n",
       "      <th>7</th>\n",
       "      <td>Pakistan</td>\n",
       "      <td>11</td>\n",
       "      <td>495</td>\n",
       "      <td>45</td>\n",
       "    </tr>\n",
       "    <tr>\n",
       "      <th>8</th>\n",
       "      <td>Sri Lanka</td>\n",
       "      <td>8</td>\n",
       "      <td>351</td>\n",
       "      <td>44</td>\n",
       "    </tr>\n",
       "    <tr>\n",
       "      <th>9</th>\n",
       "      <td>Ireland</td>\n",
       "      <td>8</td>\n",
       "      <td>0</td>\n",
       "      <td>0</td>\n",
       "    </tr>\n",
       "  </tbody>\n",
       "</table>\n",
       "</div>"
      ],
      "text/plain": [
       "      Team_name Total_Match Points Rating\n",
       "0     Australia          33  4,046    123\n",
       "1       England          35  4,157    119\n",
       "2  South Africa          32  3,219    101\n",
       "3         India          31  3,019     97\n",
       "4   New Zealand          30  2,768     92\n",
       "5   West Indies          12    930     78\n",
       "6    Bangladesh          30  1,962     65\n",
       "7      Pakistan          11    495     45\n",
       "8     Sri Lanka           8    351     44\n",
       "9       Ireland           8      0      0"
      ]
     },
     "execution_count": 13,
     "metadata": {},
     "output_type": "execute_result"
    }
   ],
   "source": [
    "Top_10_Woman"
   ]
  },
  {
   "cell_type": "code",
   "execution_count": null,
   "id": "403b8585",
   "metadata": {},
   "outputs": [],
   "source": []
  }
 ],
 "metadata": {
  "kernelspec": {
   "display_name": "Python 3 (ipykernel)",
   "language": "python",
   "name": "python3"
  },
  "language_info": {
   "codemirror_mode": {
    "name": "ipython",
    "version": 3
   },
   "file_extension": ".py",
   "mimetype": "text/x-python",
   "name": "python",
   "nbconvert_exporter": "python",
   "pygments_lexer": "ipython3",
   "version": "3.9.12"
  }
 },
 "nbformat": 4,
 "nbformat_minor": 5
}
