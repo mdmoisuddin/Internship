{
 "cells": [
  {
   "cell_type": "code",
   "execution_count": 1,
   "id": "41d6a99c",
   "metadata": {},
   "outputs": [],
   "source": [
    "from urllib.request import urlopen\n",
    "from bs4 import BeautifulSoup as Soup\n",
    "import requests as rs"
   ]
  },
  {
   "cell_type": "code",
   "execution_count": 2,
   "id": "855f4700",
   "metadata": {},
   "outputs": [
    {
     "data": {
      "text/plain": [
       "<Response [200]>"
      ]
     },
     "execution_count": 2,
     "metadata": {},
     "output_type": "execute_result"
    }
   ],
   "source": [
    "page_ODI = rs.get(\"https://www.icc-cricket.com/rankings/mens/team-rankings/odi\")\n",
    "page_ODI"
   ]
  },
  {
   "cell_type": "code",
   "execution_count": 3,
   "id": "80b7afd7",
   "metadata": {},
   "outputs": [],
   "source": [
    "ODI_soup = Soup(page_ODI.content , \"html.parser\")"
   ]
  },
  {
   "cell_type": "code",
   "execution_count": 4,
   "id": "352c6e62",
   "metadata": {},
   "outputs": [],
   "source": [
    "Team = []\n",
    "Match = []\n",
    "Points = []\n",
    "Rating =  []"
   ]
  },
  {
   "cell_type": "code",
   "execution_count": 5,
   "id": "8e4cd98f",
   "metadata": {},
   "outputs": [
    {
     "data": {
      "text/plain": [
       "[<span class=\"u-hide-phablet\">New Zealand</span>,\n",
       " <span class=\"u-hide-phablet\">England</span>,\n",
       " <span class=\"u-hide-phablet\">India</span>,\n",
       " <span class=\"u-hide-phablet\">Pakistan</span>]"
      ]
     },
     "execution_count": 5,
     "metadata": {},
     "output_type": "execute_result"
    }
   ],
   "source": [
    "M_Team = ODI_soup.find_all(\"span\", class_=\"u-hide-phablet\")\n",
    "M_Team[0:4]"
   ]
  },
  {
   "cell_type": "code",
   "execution_count": 6,
   "id": "119b33ae",
   "metadata": {},
   "outputs": [],
   "source": [
    "for i in M_Team:\n",
    "    Team.append(i.get_text().replace(\"\\n\",\" \"))"
   ]
  },
  {
   "cell_type": "code",
   "execution_count": 7,
   "id": "18a3c335",
   "metadata": {},
   "outputs": [
    {
     "data": {
      "text/plain": [
       "['New Zealand', 'England', 'India', 'Pakistan', 'Australia']"
      ]
     },
     "execution_count": 7,
     "metadata": {},
     "output_type": "execute_result"
    }
   ],
   "source": [
    "Team=Team[0:20]\n",
    "Team[0:5]"
   ]
  },
  {
   "cell_type": "code",
   "execution_count": 8,
   "id": "6a236261",
   "metadata": {},
   "outputs": [
    {
     "data": {
      "text/plain": [
       "['27', '3,226', '28', '3,085']"
      ]
     },
     "execution_count": 8,
     "metadata": {},
     "output_type": "execute_result"
    }
   ],
   "source": [
    "ODI_Match = ODI_soup.find_all(\"td\", class_=\"table-body__cell u-center-text\")\n",
    "ODI_Match[0:4]\n",
    "for i in ODI_Match:\n",
    "    Match.append(i.get_text().replace(\"\\n\",\" \"))\n",
    "\n",
    "Match[0:4]"
   ]
  },
  {
   "cell_type": "code",
   "execution_count": 9,
   "id": "2a37ac41",
   "metadata": {},
   "outputs": [
    {
     "name": "stdout",
     "output_type": "stream",
     "text": [
      "['27', '28', '19', '23', '21', '27', '29', '38', '18', '23', '23', '19', '18', '17', '30', '20', '15', '22', '22']\n"
     ]
    }
   ],
   "source": [
    "Total_Match=[]\n",
    "i=0\n",
    "while i < len(Match):\n",
    "    Total_Match.append(Match[i])\n",
    "    i += 2\n",
    "        \n",
    "print(Total_Match)  "
   ]
  },
  {
   "cell_type": "code",
   "execution_count": 10,
   "id": "c5546083",
   "metadata": {},
   "outputs": [
    {
     "name": "stdout",
     "output_type": "stream",
     "text": [
      "['3,226', '3,085', '2,005', '2,325', '2,111', '2,639', '2,658', '2,621', '1,238', '1,214', '1,025', '733', '603', '539', '919', '544', '369', '331', '134']\n"
     ]
    }
   ],
   "source": [
    "Points=[]\n",
    "i=1\n",
    "while i < len(Match):\n",
    "    Points.append(Match[i])\n",
    "    i += 2\n",
    "        \n",
    "print(Points) "
   ]
  },
  {
   "cell_type": "code",
   "execution_count": 11,
   "id": "889ae04e",
   "metadata": {},
   "outputs": [
    {
     "data": {
      "text/plain": [
       "[<td class=\"table-body__cell u-text-right rating\">119</td>,\n",
       " <td class=\"table-body__cell u-text-right rating\">110</td>,\n",
       " <td class=\"table-body__cell u-text-right rating\">106</td>,\n",
       " <td class=\"table-body__cell u-text-right rating\">101</td>]"
      ]
     },
     "execution_count": 11,
     "metadata": {},
     "output_type": "execute_result"
    }
   ],
   "source": [
    "ODI_Rating = ODI_soup.find_all(\"td\", class_=\"table-body__cell u-text-right rating\")\n",
    "ODI_Rating[0:4]\n"
   ]
  },
  {
   "cell_type": "code",
   "execution_count": 12,
   "id": "c7b7377b",
   "metadata": {},
   "outputs": [
    {
     "data": {
      "text/plain": [
       "['119', '110', '106', '101']"
      ]
     },
     "execution_count": 12,
     "metadata": {},
     "output_type": "execute_result"
    }
   ],
   "source": [
    "for i in ODI_Rating:\n",
    "    Rating.append(i.get_text().replace(\"\\n\",\" \"))\n",
    "\n",
    "Rating[0:4] "
   ]
  },
  {
   "cell_type": "code",
   "execution_count": 13,
   "id": "9696801b",
   "metadata": {},
   "outputs": [
    {
     "name": "stdout",
     "output_type": "stream",
     "text": [
      "20 19 19 19\n"
     ]
    }
   ],
   "source": [
    "print(len(Team), len(Total_Match),len(Points),len(Rating))"
   ]
  },
  {
   "cell_type": "code",
   "execution_count": 14,
   "id": "5948af4c",
   "metadata": {},
   "outputs": [
    {
     "name": "stdout",
     "output_type": "stream",
     "text": [
      "<class 'list'>\n",
      "<class 'list'>\n",
      "<class 'list'>\n",
      "<class 'list'>\n"
     ]
    }
   ],
   "source": [
    "\n",
    "print(type(Team))\n",
    "print(type(Total_Match))\n",
    "print(type(Points))\n",
    "print(type(Rating))"
   ]
  },
  {
   "cell_type": "code",
   "execution_count": 15,
   "id": "d8f093ad",
   "metadata": {},
   "outputs": [],
   "source": [
    "Total_Match.insert(0, '16')\n",
    "Points.insert(0, '2051')\n",
    "Rating.insert(0, '128')"
   ]
  },
  {
   "cell_type": "code",
   "execution_count": 16,
   "id": "e731d0bc",
   "metadata": {},
   "outputs": [
    {
     "name": "stdout",
     "output_type": "stream",
     "text": [
      "20 20 20 20\n"
     ]
    }
   ],
   "source": [
    "print(len(Team), len(Total_Match),len(Points),len(Rating))"
   ]
  },
  {
   "cell_type": "code",
   "execution_count": 17,
   "id": "54d943b2",
   "metadata": {},
   "outputs": [],
   "source": [
    "import pandas as pd\n",
    "\n",
    "Top_10_Man = pd.DataFrame({})\n",
    "Top_10_Man[\"Team_name\"] = Team\n",
    "Top_10_Man[\"Total_Match\"] = Total_Match\n",
    "Top_10_Man[\"Points\"] = Points\n",
    "Top_10_Man[\"Rating\"] = Rating"
   ]
  },
  {
   "cell_type": "code",
   "execution_count": 19,
   "id": "6ddc9898",
   "metadata": {},
   "outputs": [
    {
     "data": {
      "text/html": [
       "<div>\n",
       "<style scoped>\n",
       "    .dataframe tbody tr th:only-of-type {\n",
       "        vertical-align: middle;\n",
       "    }\n",
       "\n",
       "    .dataframe tbody tr th {\n",
       "        vertical-align: top;\n",
       "    }\n",
       "\n",
       "    .dataframe thead th {\n",
       "        text-align: right;\n",
       "    }\n",
       "</style>\n",
       "<table border=\"1\" class=\"dataframe\">\n",
       "  <thead>\n",
       "    <tr style=\"text-align: right;\">\n",
       "      <th></th>\n",
       "      <th>Team_name</th>\n",
       "      <th>Total_Match</th>\n",
       "      <th>Points</th>\n",
       "      <th>Rating</th>\n",
       "    </tr>\n",
       "  </thead>\n",
       "  <tbody>\n",
       "    <tr>\n",
       "      <th>0</th>\n",
       "      <td>New Zealand</td>\n",
       "      <td>16</td>\n",
       "      <td>2051</td>\n",
       "      <td>128</td>\n",
       "    </tr>\n",
       "    <tr>\n",
       "      <th>1</th>\n",
       "      <td>England</td>\n",
       "      <td>27</td>\n",
       "      <td>3,226</td>\n",
       "      <td>119</td>\n",
       "    </tr>\n",
       "    <tr>\n",
       "      <th>2</th>\n",
       "      <td>India</td>\n",
       "      <td>28</td>\n",
       "      <td>3,085</td>\n",
       "      <td>110</td>\n",
       "    </tr>\n",
       "    <tr>\n",
       "      <th>3</th>\n",
       "      <td>Pakistan</td>\n",
       "      <td>19</td>\n",
       "      <td>2,005</td>\n",
       "      <td>106</td>\n",
       "    </tr>\n",
       "    <tr>\n",
       "      <th>4</th>\n",
       "      <td>Australia</td>\n",
       "      <td>23</td>\n",
       "      <td>2,325</td>\n",
       "      <td>101</td>\n",
       "    </tr>\n",
       "    <tr>\n",
       "      <th>5</th>\n",
       "      <td>South Africa</td>\n",
       "      <td>21</td>\n",
       "      <td>2,111</td>\n",
       "      <td>101</td>\n",
       "    </tr>\n",
       "    <tr>\n",
       "      <th>6</th>\n",
       "      <td>Bangladesh</td>\n",
       "      <td>27</td>\n",
       "      <td>2,639</td>\n",
       "      <td>98</td>\n",
       "    </tr>\n",
       "    <tr>\n",
       "      <th>7</th>\n",
       "      <td>Sri Lanka</td>\n",
       "      <td>29</td>\n",
       "      <td>2,658</td>\n",
       "      <td>92</td>\n",
       "    </tr>\n",
       "    <tr>\n",
       "      <th>8</th>\n",
       "      <td>West Indies</td>\n",
       "      <td>38</td>\n",
       "      <td>2,621</td>\n",
       "      <td>69</td>\n",
       "    </tr>\n",
       "    <tr>\n",
       "      <th>9</th>\n",
       "      <td>Afghanistan</td>\n",
       "      <td>18</td>\n",
       "      <td>1,238</td>\n",
       "      <td>69</td>\n",
       "    </tr>\n",
       "  </tbody>\n",
       "</table>\n",
       "</div>"
      ],
      "text/plain": [
       "      Team_name Total_Match Points Rating\n",
       "0   New Zealand          16   2051    128\n",
       "1       England          27  3,226    119\n",
       "2         India          28  3,085    110\n",
       "3      Pakistan          19  2,005    106\n",
       "4     Australia          23  2,325    101\n",
       "5  South Africa          21  2,111    101\n",
       "6    Bangladesh          27  2,639     98\n",
       "7     Sri Lanka          29  2,658     92\n",
       "8   West Indies          38  2,621     69\n",
       "9   Afghanistan          18  1,238     69"
      ]
     },
     "execution_count": 19,
     "metadata": {},
     "output_type": "execute_result"
    }
   ],
   "source": [
    "Top_10_Man.head(10)"
   ]
  },
  {
   "cell_type": "code",
   "execution_count": null,
   "id": "6cee689c",
   "metadata": {},
   "outputs": [],
   "source": []
  }
 ],
 "metadata": {
  "kernelspec": {
   "display_name": "Python 3 (ipykernel)",
   "language": "python",
   "name": "python3"
  },
  "language_info": {
   "codemirror_mode": {
    "name": "ipython",
    "version": 3
   },
   "file_extension": ".py",
   "mimetype": "text/x-python",
   "name": "python",
   "nbconvert_exporter": "python",
   "pygments_lexer": "ipython3",
   "version": "3.9.12"
  }
 },
 "nbformat": 4,
 "nbformat_minor": 5
}
