{
 "cells": [
  {
   "cell_type": "code",
   "execution_count": 1,
   "id": "f07bcc64",
   "metadata": {},
   "outputs": [],
   "source": [
    "from urllib.request import urlopen\n",
    "from bs4 import BeautifulSoup as Soup\n",
    "import requests as rs"
   ]
  },
  {
   "cell_type": "code",
   "execution_count": 2,
   "id": "41373101",
   "metadata": {},
   "outputs": [
    {
     "data": {
      "text/plain": [
       "<Response [200]>"
      ]
     },
     "execution_count": 2,
     "metadata": {},
     "output_type": "execute_result"
    }
   ],
   "source": [
    "page_ODI_Bat = rs.get(\"https://www.icc-cricket.com/rankings/mens/player-rankings/odi\")\n",
    "page_ODI_Bat"
   ]
  },
  {
   "cell_type": "code",
   "execution_count": 3,
   "id": "7cc3aa0d",
   "metadata": {},
   "outputs": [],
   "source": [
    "ODI_soup_Bat = Soup(page_ODI_Bat.content , \"html.parser\")"
   ]
  },
  {
   "cell_type": "code",
   "execution_count": 4,
   "id": "5a292571",
   "metadata": {},
   "outputs": [],
   "source": [
    "Batsmen_Name = []\n",
    "Team = []\n",
    "Rating =  []"
   ]
  },
  {
   "cell_type": "code",
   "execution_count": 5,
   "id": "689f29fa",
   "metadata": {},
   "outputs": [
    {
     "data": {
      "text/plain": [
       "[<td class=\"table-body__cell name\">\n",
       " <a href=\"/rankings/mens/player-rankings/1568\">Imam-ul-Haq</a>\n",
       " </td>,\n",
       " <td class=\"table-body__cell name\">\n",
       " <a href=\"/rankings/mens/player-rankings/1277\">Rassie van der Dussen</a>\n",
       " </td>,\n",
       " <td class=\"table-body__cell name\">\n",
       " <a href=\"/rankings/mens/player-rankings/834\">Quinton de Kock</a>\n",
       " </td>,\n",
       " <td class=\"table-body__cell name\">\n",
       " <a href=\"/rankings/mens/player-rankings/164\">Virat Kohli</a>\n",
       " </td>]"
      ]
     },
     "execution_count": 5,
     "metadata": {},
     "output_type": "execute_result"
    }
   ],
   "source": [
    "Batsmen = ODI_soup_Bat.find_all(\"td\", class_ =\"table-body__cell name\")\n",
    "Batsmen[0:4]"
   ]
  },
  {
   "cell_type": "code",
   "execution_count": 6,
   "id": "dd870756",
   "metadata": {},
   "outputs": [
    {
     "data": {
      "text/plain": [
       "[' Imam-ul-Haq ', ' Rassie van der Dussen ', ' Quinton de Kock ']"
      ]
     },
     "execution_count": 6,
     "metadata": {},
     "output_type": "execute_result"
    }
   ],
   "source": [
    "for i in Batsmen:\n",
    "    Batsmen_Name.append(i.get_text().replace(\"\\n\",\" \"))\n",
    "    \n",
    "Batsmen_Name[0:3]"
   ]
  },
  {
   "cell_type": "code",
   "execution_count": 7,
   "id": "870a195c",
   "metadata": {},
   "outputs": [
    {
     "data": {
      "text/plain": [
       "['PAK', 'SA', 'SA', 'IND']"
      ]
     },
     "execution_count": 7,
     "metadata": {},
     "output_type": "execute_result"
    }
   ],
   "source": [
    "Team_Name = ODI_soup_Bat.find_all(\"span\", class_=\"table-body__logo-text\")\n",
    "Team_Name[0:4]\n",
    "for i in Team_Name:\n",
    "    Team.append(i.get_text().replace(\"\\n\",\" \"))\n",
    "\n",
    "Team[0:4]"
   ]
  },
  {
   "cell_type": "code",
   "execution_count": 9,
   "id": "59417ca7",
   "metadata": {},
   "outputs": [
    {
     "data": {
      "text/plain": [
       "[<td class=\"table-body__cell u-text-right rating\">815</td>,\n",
       " <td class=\"table-body__cell u-text-right rating\">789</td>,\n",
       " <td class=\"table-body__cell u-text-right rating\">784</td>,\n",
       " <td class=\"table-body__cell u-text-right rating\">767</td>]"
      ]
     },
     "execution_count": 9,
     "metadata": {},
     "output_type": "execute_result"
    }
   ],
   "source": [
    "Rating_Bat = ODI_soup_Bat.find_all(\"td\", class_=\"table-body__cell u-text-right rating\")\n",
    "Rating_Bat[0:4]\n"
   ]
  },
  {
   "cell_type": "code",
   "execution_count": 10,
   "id": "83d98539",
   "metadata": {},
   "outputs": [
    {
     "data": {
      "text/plain": [
       "['815', '789', '784', '767']"
      ]
     },
     "execution_count": 10,
     "metadata": {},
     "output_type": "execute_result"
    }
   ],
   "source": [
    "for i in Rating_Bat:\n",
    "    Rating.append(i.get_text().replace(\"\\n\",\" \"))\n",
    "\n",
    "Rating[0:4]"
   ]
  },
  {
   "cell_type": "code",
   "execution_count": 11,
   "id": "ff100b27",
   "metadata": {},
   "outputs": [
    {
     "name": "stdout",
     "output_type": "stream",
     "text": [
      "54 54 54\n"
     ]
    }
   ],
   "source": [
    "print(len(Team), len(Batsmen_Name),len(Rating))"
   ]
  },
  {
   "cell_type": "code",
   "execution_count": 12,
   "id": "091ac83d",
   "metadata": {},
   "outputs": [],
   "source": [
    "Batsmen_Name.insert(0 , 'Babar Azam')\n",
    "Team.insert(0 ,'PAK')\n",
    "Rating.insert(0,'815')"
   ]
  },
  {
   "cell_type": "code",
   "execution_count": 13,
   "id": "f5910a71",
   "metadata": {},
   "outputs": [
    {
     "name": "stdout",
     "output_type": "stream",
     "text": [
      "55 55 55\n"
     ]
    }
   ],
   "source": [
    "print(len(Team), len(Batsmen_Name),len(Rating))"
   ]
  },
  {
   "cell_type": "code",
   "execution_count": 14,
   "id": "6a659fd3",
   "metadata": {},
   "outputs": [],
   "source": [
    "import pandas as pd\n",
    "\n",
    "Top_Batsmen_ODI = pd.DataFrame({})\n",
    "Top_Batsmen_ODI[\"Batsmen_Names\"]=Batsmen_Name\n",
    "Top_Batsmen_ODI[\"Team_Names\"]=Team\n",
    "Top_Batsmen_ODI[\"Rating\"]=Rating"
   ]
  },
  {
   "cell_type": "code",
   "execution_count": 15,
   "id": "ec29b4ed",
   "metadata": {},
   "outputs": [
    {
     "data": {
      "text/html": [
       "<div>\n",
       "<style scoped>\n",
       "    .dataframe tbody tr th:only-of-type {\n",
       "        vertical-align: middle;\n",
       "    }\n",
       "\n",
       "    .dataframe tbody tr th {\n",
       "        vertical-align: top;\n",
       "    }\n",
       "\n",
       "    .dataframe thead th {\n",
       "        text-align: right;\n",
       "    }\n",
       "</style>\n",
       "<table border=\"1\" class=\"dataframe\">\n",
       "  <thead>\n",
       "    <tr style=\"text-align: right;\">\n",
       "      <th></th>\n",
       "      <th>Batsmen_Names</th>\n",
       "      <th>Team_Names</th>\n",
       "      <th>Rating</th>\n",
       "    </tr>\n",
       "  </thead>\n",
       "  <tbody>\n",
       "    <tr>\n",
       "      <th>0</th>\n",
       "      <td>Babar Azam</td>\n",
       "      <td>PAK</td>\n",
       "      <td>815</td>\n",
       "    </tr>\n",
       "    <tr>\n",
       "      <th>1</th>\n",
       "      <td>Imam-ul-Haq</td>\n",
       "      <td>PAK</td>\n",
       "      <td>815</td>\n",
       "    </tr>\n",
       "    <tr>\n",
       "      <th>2</th>\n",
       "      <td>Rassie van der Dussen</td>\n",
       "      <td>SA</td>\n",
       "      <td>789</td>\n",
       "    </tr>\n",
       "    <tr>\n",
       "      <th>3</th>\n",
       "      <td>Quinton de Kock</td>\n",
       "      <td>SA</td>\n",
       "      <td>784</td>\n",
       "    </tr>\n",
       "    <tr>\n",
       "      <th>4</th>\n",
       "      <td>Virat Kohli</td>\n",
       "      <td>IND</td>\n",
       "      <td>767</td>\n",
       "    </tr>\n",
       "    <tr>\n",
       "      <th>5</th>\n",
       "      <td>Rohit Sharma</td>\n",
       "      <td>IND</td>\n",
       "      <td>763</td>\n",
       "    </tr>\n",
       "    <tr>\n",
       "      <th>6</th>\n",
       "      <td>Ross Taylor</td>\n",
       "      <td>NZ</td>\n",
       "      <td>744</td>\n",
       "    </tr>\n",
       "    <tr>\n",
       "      <th>7</th>\n",
       "      <td>David Warner</td>\n",
       "      <td>AUS</td>\n",
       "      <td>737</td>\n",
       "    </tr>\n",
       "    <tr>\n",
       "      <th>8</th>\n",
       "      <td>Jonny Bairstow</td>\n",
       "      <td>ENG</td>\n",
       "      <td>732</td>\n",
       "    </tr>\n",
       "    <tr>\n",
       "      <th>9</th>\n",
       "      <td>Aaron Finch</td>\n",
       "      <td>AUS</td>\n",
       "      <td>715</td>\n",
       "    </tr>\n",
       "  </tbody>\n",
       "</table>\n",
       "</div>"
      ],
      "text/plain": [
       "             Batsmen_Names Team_Names Rating\n",
       "0               Babar Azam        PAK    815\n",
       "1             Imam-ul-Haq         PAK    815\n",
       "2   Rassie van der Dussen          SA    789\n",
       "3         Quinton de Kock          SA    784\n",
       "4             Virat Kohli         IND    767\n",
       "5            Rohit Sharma         IND    763\n",
       "6             Ross Taylor          NZ    744\n",
       "7            David Warner         AUS    737\n",
       "8          Jonny Bairstow         ENG    732\n",
       "9             Aaron Finch         AUS    715"
      ]
     },
     "execution_count": 15,
     "metadata": {},
     "output_type": "execute_result"
    }
   ],
   "source": [
    "Top_Batsmen_ODI.head(10)"
   ]
  },
  {
   "cell_type": "code",
   "execution_count": null,
   "id": "023c9893",
   "metadata": {},
   "outputs": [],
   "source": []
  }
 ],
 "metadata": {
  "kernelspec": {
   "display_name": "Python 3 (ipykernel)",
   "language": "python",
   "name": "python3"
  },
  "language_info": {
   "codemirror_mode": {
    "name": "ipython",
    "version": 3
   },
   "file_extension": ".py",
   "mimetype": "text/x-python",
   "name": "python",
   "nbconvert_exporter": "python",
   "pygments_lexer": "ipython3",
   "version": "3.9.12"
  }
 },
 "nbformat": 4,
 "nbformat_minor": 5
}
