{
 "cells": [
  {
   "cell_type": "code",
   "execution_count": 1,
   "id": "ca12ddee",
   "metadata": {},
   "outputs": [],
   "source": [
    "from urllib.request import urlopen\n",
    "from bs4 import BeautifulSoup as Soup\n",
    "import requests as rs"
   ]
  },
  {
   "cell_type": "code",
   "execution_count": 29,
   "id": "ea969f57",
   "metadata": {},
   "outputs": [
    {
     "data": {
      "text/plain": [
       "<Response [200]>"
      ]
     },
     "execution_count": 29,
     "metadata": {},
     "output_type": "execute_result"
    }
   ],
   "source": [
    "page_ODI_Bat_w = rs.get(\"https://www.icc-cricket.com/rankings/womens/player-rankings/odi\")\n",
    "page_ODI_Bat_w"
   ]
  },
  {
   "cell_type": "code",
   "execution_count": 32,
   "id": "3af847ab",
   "metadata": {},
   "outputs": [],
   "source": [
    "ODI_soup_Bat_w = Soup(page_ODI_Bat_w.content , \"html.parser\")"
   ]
  },
  {
   "cell_type": "code",
   "execution_count": 33,
   "id": "dafeae95",
   "metadata": {},
   "outputs": [],
   "source": [
    "Player_Name = []\n",
    "Team_W = []\n",
    "Ratings_W =  []"
   ]
  },
  {
   "cell_type": "code",
   "execution_count": 35,
   "id": "dad8baa1",
   "metadata": {},
   "outputs": [
    {
     "data": {
      "text/plain": [
       "[' Beth Mooney ', ' Natalie Sciver ', ' Laura Wolvaardt ']"
      ]
     },
     "execution_count": 35,
     "metadata": {},
     "output_type": "execute_result"
    }
   ],
   "source": [
    "\n",
    "player_W = ODI_soup_Bat_w.find_all(\"td\", class_ =\"table-body__cell name\")\n",
    "player_W[0:4]\n",
    "\n",
    "for i in player_W:\n",
    "    Player_Name.append(i.get_text().replace(\"\\n\",\" \"))\n",
    "    \n",
    "Player_Name[0:3]"
   ]
  },
  {
   "cell_type": "code",
   "execution_count": 36,
   "id": "d2d1ba1f",
   "metadata": {},
   "outputs": [
    {
     "data": {
      "text/plain": [
       "['AUS', 'ENG', 'SA', 'AUS']"
      ]
     },
     "execution_count": 36,
     "metadata": {},
     "output_type": "execute_result"
    }
   ],
   "source": [
    "Team_Name_W = ODI_soup_Bat_w.find_all(\"span\", class_=\"table-body__logo-text\")\n",
    "Team_Name_W[0:4]\n",
    " \n",
    "for i in Team_Name_W:\n",
    "    Team_W.append(i.get_text().replace(\"\\n\",\" \"))\n",
    "\n",
    "Team_W[0:4]"
   ]
  },
  {
   "cell_type": "code",
   "execution_count": 38,
   "id": "d4a3fb4c",
   "metadata": {},
   "outputs": [
    {
     "data": {
      "text/plain": [
       "['749', '747', '732', '710']"
      ]
     },
     "execution_count": 38,
     "metadata": {},
     "output_type": "execute_result"
    }
   ],
   "source": [
    "Rating_Bat_w = ODI_soup_Bat_w.find_all(\"td\", class_=\"table-body__cell u-text-right rating\")\n",
    "Rating_Bat_w[0:4]\n",
    "\n",
    "for i in Rating_Bat_w:\n",
    "    Ratings_W.append(i.get_text().replace(\"\\n\",\" \"))\n",
    "\n",
    "Ratings_W[0:4]"
   ]
  },
  {
   "cell_type": "code",
   "execution_count": 39,
   "id": "6eed814b",
   "metadata": {},
   "outputs": [
    {
     "name": "stdout",
     "output_type": "stream",
     "text": [
      "27 27 27\n"
     ]
    }
   ],
   "source": [
    "print(len(Team_W), len(Player_Name),len(Ratings_W))"
   ]
  },
  {
   "cell_type": "code",
   "execution_count": 40,
   "id": "5a30dc6b",
   "metadata": {},
   "outputs": [],
   "source": [
    "Player_Name.insert(0 , 'Alyssa Healy')\n",
    "Team_W.insert(0 ,'AUS')\n",
    "Ratings_W.insert(0,'785')"
   ]
  },
  {
   "cell_type": "code",
   "execution_count": 41,
   "id": "40e33fbc",
   "metadata": {},
   "outputs": [
    {
     "name": "stdout",
     "output_type": "stream",
     "text": [
      "28 28 28\n"
     ]
    }
   ],
   "source": [
    "print(len(Team_W), len(Player_Name),len(Ratings_W))"
   ]
  },
  {
   "cell_type": "code",
   "execution_count": 42,
   "id": "19903ac5",
   "metadata": {},
   "outputs": [
    {
     "data": {
      "text/html": [
       "<div>\n",
       "<style scoped>\n",
       "    .dataframe tbody tr th:only-of-type {\n",
       "        vertical-align: middle;\n",
       "    }\n",
       "\n",
       "    .dataframe tbody tr th {\n",
       "        vertical-align: top;\n",
       "    }\n",
       "\n",
       "    .dataframe thead th {\n",
       "        text-align: right;\n",
       "    }\n",
       "</style>\n",
       "<table border=\"1\" class=\"dataframe\">\n",
       "  <thead>\n",
       "    <tr style=\"text-align: right;\">\n",
       "      <th></th>\n",
       "      <th>Batsmen_Names</th>\n",
       "      <th>Team_Names</th>\n",
       "      <th>Rating</th>\n",
       "    </tr>\n",
       "  </thead>\n",
       "  <tbody>\n",
       "    <tr>\n",
       "      <th>0</th>\n",
       "      <td>Alyssa Healy</td>\n",
       "      <td>AUS</td>\n",
       "      <td>785</td>\n",
       "    </tr>\n",
       "    <tr>\n",
       "      <th>1</th>\n",
       "      <td>Beth Mooney</td>\n",
       "      <td>AUS</td>\n",
       "      <td>749</td>\n",
       "    </tr>\n",
       "    <tr>\n",
       "      <th>2</th>\n",
       "      <td>Natalie Sciver</td>\n",
       "      <td>ENG</td>\n",
       "      <td>747</td>\n",
       "    </tr>\n",
       "    <tr>\n",
       "      <th>3</th>\n",
       "      <td>Laura Wolvaardt</td>\n",
       "      <td>SA</td>\n",
       "      <td>732</td>\n",
       "    </tr>\n",
       "    <tr>\n",
       "      <th>4</th>\n",
       "      <td>Meg Lanning</td>\n",
       "      <td>AUS</td>\n",
       "      <td>710</td>\n",
       "    </tr>\n",
       "    <tr>\n",
       "      <th>5</th>\n",
       "      <td>Rachael Haynes</td>\n",
       "      <td>AUS</td>\n",
       "      <td>701</td>\n",
       "    </tr>\n",
       "    <tr>\n",
       "      <th>6</th>\n",
       "      <td>Amy Satterthwaite</td>\n",
       "      <td>NZ</td>\n",
       "      <td>681</td>\n",
       "    </tr>\n",
       "    <tr>\n",
       "      <th>7</th>\n",
       "      <td>Tammy Beaumont</td>\n",
       "      <td>ENG</td>\n",
       "      <td>667</td>\n",
       "    </tr>\n",
       "    <tr>\n",
       "      <th>8</th>\n",
       "      <td>Chamari Athapaththu</td>\n",
       "      <td>SL</td>\n",
       "      <td>655</td>\n",
       "    </tr>\n",
       "    <tr>\n",
       "      <th>9</th>\n",
       "      <td>Smriti Mandhana</td>\n",
       "      <td>IND</td>\n",
       "      <td>649</td>\n",
       "    </tr>\n",
       "  </tbody>\n",
       "</table>\n",
       "</div>"
      ],
      "text/plain": [
       "           Batsmen_Names Team_Names Rating\n",
       "0           Alyssa Healy        AUS    785\n",
       "1           Beth Mooney         AUS    749\n",
       "2        Natalie Sciver         ENG    747\n",
       "3       Laura Wolvaardt          SA    732\n",
       "4           Meg Lanning         AUS    710\n",
       "5        Rachael Haynes         AUS    701\n",
       "6     Amy Satterthwaite          NZ    681\n",
       "7        Tammy Beaumont         ENG    667\n",
       "8   Chamari Athapaththu          SL    655\n",
       "9       Smriti Mandhana         IND    649"
      ]
     },
     "execution_count": 42,
     "metadata": {},
     "output_type": "execute_result"
    }
   ],
   "source": [
    "import pandas as pd\n",
    "\n",
    "Top_player_ODI_W = pd.DataFrame({})\n",
    "Top_player_ODI_W[\"Batsmen_Names\"]=Player_Name\n",
    "Top_player_ODI_W[\"Team_Names\"]=Team_W\n",
    "Top_player_ODI_W[\"Rating\"]=Ratings_W\n",
    "\n",
    "Top_player_ODI_W.head(10)"
   ]
  },
  {
   "cell_type": "code",
   "execution_count": null,
   "id": "08ba868d",
   "metadata": {},
   "outputs": [],
   "source": []
  }
 ],
 "metadata": {
  "kernelspec": {
   "display_name": "Python 3 (ipykernel)",
   "language": "python",
   "name": "python3"
  },
  "language_info": {
   "codemirror_mode": {
    "name": "ipython",
    "version": 3
   },
   "file_extension": ".py",
   "mimetype": "text/x-python",
   "name": "python",
   "nbconvert_exporter": "python",
   "pygments_lexer": "ipython3",
   "version": "3.9.12"
  }
 },
 "nbformat": 4,
 "nbformat_minor": 5
}
